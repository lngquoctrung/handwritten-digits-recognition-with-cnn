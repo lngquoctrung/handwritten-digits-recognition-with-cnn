{
 "cells": [
  {
   "cell_type": "markdown",
   "metadata": {},
   "source": [
    "## **0. Introduction**\n",
    "\n",
    "The **Handwritten Digits Recognition** problem is the one of classic problems in **Computer Vision** field. Nowaday, it still apply widely in many fields such as **Optical Character Recognition (OCR)**, banking, postal service, and others. In this project, we will use **Convolutional Neural Network (CNN)** to solve this problem, this is special neural network structure is effective in processing and analysing image data.\n",
    "\n",
    "<div align=\"center\">\n",
    "    <img \n",
    "    src=\"https://www.researchgate.net/publication/330872480/figure/fig3/AS:722816919957504@1549344391016/A-seven-layered-convolutional-neural-network-for-handwritten-digits-recognition.ppm\"\n",
    "    width=\"600px\"/>\n",
    "</div>\n",
    "\n",
    "The dataset used in this problem is **Modified National Institute Standards and Technology (MNIST)**, which stores handwritten digit images from 0 to 9. This dataset contains about 60,000 image for training set and 10,000 images for testing set, with each image size 28x28 pixels. Our goal that initialize a CNN model and train it using MNIST data, and enable it to predict accurately on the testing set."
   ]
  },
  {
   "cell_type": "markdown",
   "metadata": {},
   "source": [
    "## **1. Libraries**\n",
    "\n",
    "The **Tensorflow** library is module published by Google from  provide for us many functions to help us initialize models, train models,... Addition, the library help us "
   ]
  },
  {
   "cell_type": "code",
   "execution_count": 1,
   "metadata": {},
   "outputs": [
    {
     "name": "stderr",
     "output_type": "stream",
     "text": [
      "2025-03-05 22:07:24.256492: I tensorflow/core/util/port.cc:153] oneDNN custom operations are on. You may see slightly different numerical results due to floating-point round-off errors from different computation orders. To turn them off, set the environment variable `TF_ENABLE_ONEDNN_OPTS=0`.\n",
      "2025-03-05 22:07:24.271606: E external/local_xla/xla/stream_executor/cuda/cuda_fft.cc:477] Unable to register cuFFT factory: Attempting to register factory for plugin cuFFT when one has already been registered\n",
      "WARNING: All log messages before absl::InitializeLog() is called are written to STDERR\n",
      "E0000 00:00:1741187244.289094   35018 cuda_dnn.cc:8310] Unable to register cuDNN factory: Attempting to register factory for plugin cuDNN when one has already been registered\n",
      "E0000 00:00:1741187244.293516   35018 cuda_blas.cc:1418] Unable to register cuBLAS factory: Attempting to register factory for plugin cuBLAS when one has already been registered\n",
      "2025-03-05 22:07:24.311113: I tensorflow/core/platform/cpu_feature_guard.cc:210] This TensorFlow binary is optimized to use available CPU instructions in performance-critical operations.\n",
      "To enable the following instructions: AVX2 AVX512F AVX512_VNNI FMA, in other operations, rebuild TensorFlow with the appropriate compiler flags.\n"
     ]
    }
   ],
   "source": [
    "import warnings\n",
    "warnings.filterwarnings(\"ignore\")\n",
    "\n",
    "import tensorflow as tf\n",
    "import seaborn as sns\n",
    "import matplotlib.pyplot as plt\n",
    "import numpy as np"
   ]
  },
  {
   "cell_type": "code",
   "execution_count": null,
   "metadata": {},
   "outputs": [
    {
     "name": "stdout",
     "output_type": "stream",
     "text": [
      "The current version of Tensorflow: 2.18.0\n",
      "The number of GPUs on this device: 1\n",
      "The name of GPU(s): [PhysicalDevice(name='/physical_device:GPU:0', device_type='GPU')]\n"
     ]
    }
   ],
   "source": [
    "print(f\"The current version of Tensorflow: {tf.__version__}\")\n",
    "print(f\"The number of GPUs on this device: {len(tf.config.list_physical_devices(\"GPU\"))}\")\n",
    "print(f\"The name of GPUs: {tf.config.list_physical_devices(\"GPU\")}\")"
   ]
  },
  {
   "cell_type": "markdown",
   "metadata": {},
   "source": [
    "## **2. Dataset**"
   ]
  },
  {
   "cell_type": "code",
   "execution_count": null,
   "metadata": {},
   "outputs": [],
   "source": []
  }
 ],
 "metadata": {
  "kernelspec": {
   "display_name": "tf_env",
   "language": "python",
   "name": "python3"
  },
  "language_info": {
   "codemirror_mode": {
    "name": "ipython",
    "version": 3
   },
   "file_extension": ".py",
   "mimetype": "text/x-python",
   "name": "python",
   "nbconvert_exporter": "python",
   "pygments_lexer": "ipython3",
   "version": "3.12.9"
  }
 },
 "nbformat": 4,
 "nbformat_minor": 2
}
